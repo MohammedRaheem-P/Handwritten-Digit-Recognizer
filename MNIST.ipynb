{
  "nbformat": 4,
  "nbformat_minor": 0,
  "metadata": {
    "colab": {
      "name": "MNIST.ipynb",
      "provenance": [],
      "toc_visible": true
    },
    "kernelspec": {
      "name": "python3",
      "display_name": "Python 3"
    }
  },
  "cells": [
    {
      "cell_type": "markdown",
      "metadata": {
        "id": "hHROfQ0iDKMU"
      },
      "source": [
        "**Handwritten Digit Recognizer 0-9**\n",
        "\n",
        "using MNIST dataset"
      ]
    },
    {
      "cell_type": "markdown",
      "metadata": {
        "id": "M_JGfQiwDYbZ"
      },
      "source": [
        "#Dataset"
      ]
    },
    {
      "cell_type": "code",
      "metadata": {
        "id": "EanhOAVEDbb3",
        "colab": {
          "base_uri": "https://localhost:8080/"
        },
        "outputId": "70af3319-f0bf-4f09-d88a-1488f072cc65"
      },
      "source": [
        "import keras\n",
        "from keras.datasets import mnist\n",
        "data=mnist.load_data()"
      ],
      "execution_count": 1,
      "outputs": [
        {
          "output_type": "stream",
          "text": [
            "Downloading data from https://storage.googleapis.com/tensorflow/tf-keras-datasets/mnist.npz\n",
            "11493376/11490434 [==============================] - 0s 0us/step\n"
          ],
          "name": "stdout"
        }
      ]
    },
    {
      "cell_type": "code",
      "metadata": {
        "id": "fsZcSaswDnX6"
      },
      "source": [
        "#mnist data format\n",
        "(X_train,y_train),(X_test,y_test)=data"
      ],
      "execution_count": 2,
      "outputs": []
    },
    {
      "cell_type": "code",
      "metadata": {
        "colab": {
          "base_uri": "https://localhost:8080/"
        },
        "id": "Gc7KfjPlD0M4",
        "outputId": "6e0d55bb-a16e-4750-9049-7d942eba3573"
      },
      "source": [
        "#understanding the data\n",
        "print('X_train shape :',X_train.shape)\n",
        "print('y_train shape :',y_train.shape)\n",
        "print('X_test shape :',X_test.shape)\n",
        "print('y_test shape :',y_test.shape)"
      ],
      "execution_count": 3,
      "outputs": [
        {
          "output_type": "stream",
          "text": [
            "X_train shape : (60000, 28, 28)\n",
            "y_train shape : (60000,)\n",
            "X_test shape : (10000, 28, 28)\n",
            "y_test shape : (10000,)\n"
          ],
          "name": "stdout"
        }
      ]
    },
    {
      "cell_type": "code",
      "metadata": {
        "colab": {
          "base_uri": "https://localhost:8080/",
          "height": 282
        },
        "id": "KV8uizIDIvxh",
        "outputId": "192fdc39-8c47-4322-bd7f-f1974415c771"
      },
      "source": [
        "#visualize some images\n",
        "import matplotlib.pyplot as plt\n",
        "plt.imshow(X_train[3])"
      ],
      "execution_count": 4,
      "outputs": [
        {
          "output_type": "execute_result",
          "data": {
            "text/plain": [
              "<matplotlib.image.AxesImage at 0x7f9b2fb6c0f0>"
            ]
          },
          "metadata": {
            "tags": []
          },
          "execution_count": 4
        },
        {
          "output_type": "display_data",
          "data": {
            "image/png": "[encoded data removed]",
            "text/plain": [
              "<Figure size 432x288 with 1 Axes>"
            ]
          },
          "metadata": {
            "tags": [],
            "needs_background": "light"
          }
        }
      ]
    },
    {
      "cell_type": "code",
      "metadata": {
        "colab": {
          "base_uri": "https://localhost:8080/",
          "height": 282
        },
        "id": "v1QHU5DyJ9Qe",
        "outputId": "bdfb7cd6-4b12-434b-99f7-4f0c35fd9aad"
      },
      "source": [
        "plt.imshow(X_test[35])"
      ],
      "execution_count": 5,
      "outputs": [
        {
          "output_type": "execute_result",
          "data": {
            "text/plain": [
              "<matplotlib.image.AxesImage at 0x7f9b307d55c0>"
            ]
          },
          "metadata": {
            "tags": []
          },
          "execution_count": 5
        },
        {
          "output_type": "display_data",
          "data": {
            "image/png": "[encoded data removed]",
            "text/plain": [
              "<Figure size 432x288 with 1 Axes>"
            ]
          },
          "metadata": {
            "tags": [],
            "needs_background": "light"
          }
        }
      ]
    },
    {
      "cell_type": "code",
      "metadata": {
        "id": "Gp82EkElEHNb"
      },
      "source": [
        "#reshape,normalize\n",
        "X_train=X_train.reshape(-1,28,28,1)\n",
        "X_test=X_test.reshape(-1,28,28,1)\n",
        "X_train=X_train.astype('float32')\n",
        "X_test=X_test.astype('float32')\n",
        "X_train/=255    #normalize\n",
        "X_test/=255\n",
        "from keras.utils import np_utils\n",
        "y_train=np_utils.to_categorical(y_train,10)\n",
        "y_test=np_utils.to_categorical(y_test,10)"
      ],
      "execution_count": 6,
      "outputs": []
    },
    {
      "cell_type": "code",
      "metadata": {
        "colab": {
          "base_uri": "https://localhost:8080/"
        },
        "id": "FwbKgEpuE6JB",
        "outputId": "fb0da1fe-6cb0-4f95-d195-d5a46398b84f"
      },
      "source": [
        "#now shapes\n",
        "print('X_train shape :',X_train.shape)\n",
        "print('y_train shape :',y_train.shape)\n",
        "print('X_test shape :',X_test.shape)\n",
        "print('y_test shape :',y_test.shape)"
      ],
      "execution_count": 7,
      "outputs": [
        {
          "output_type": "stream",
          "text": [
            "X_train shape : (60000, 28, 28, 1)\n",
            "y_train shape : (60000, 10)\n",
            "X_test shape : (10000, 28, 28, 1)\n",
            "y_test shape : (10000, 10)\n"
          ],
          "name": "stdout"
        }
      ]
    },
    {
      "cell_type": "markdown",
      "metadata": {
        "id": "7k2aHuvIFpGC"
      },
      "source": [
        "#Model"
      ]
    },
    {
      "cell_type": "code",
      "metadata": {
        "id": "6Xo9piwnFuE8"
      },
      "source": [
        "from keras.models import Sequential\n",
        "from keras.layers import Conv2D,MaxPool2D,Flatten,Dense"
      ],
      "execution_count": 8,
      "outputs": []
    },
    {
      "cell_type": "code",
      "metadata": {
        "id": "_TZ7W1b5GGzA"
      },
      "source": [
        "model=Sequential()\n",
        "model.add(Conv2D(20,(2,2),activation='relu',input_shape=(28,28,1)))\n",
        "model.add(MaxPool2D((2,2)))\n",
        "model.add(Flatten())\n",
        "model.add(Dense(10,activation='relu'))\n",
        "model.add(Dense(10,activation='softmax'))"
      ],
      "execution_count": 9,
      "outputs": []
    },
    {
      "cell_type": "code",
      "metadata": {
        "colab": {
          "base_uri": "https://localhost:8080/"
        },
        "id": "9iLDZWAsGrMi",
        "outputId": "68b6146e-4d5d-4f03-8f83-ddb541769d07"
      },
      "source": [
        "#total no.parameters\n",
        "model.count_params()"
      ],
      "execution_count": 10,
      "outputs": [
        {
          "output_type": "execute_result",
          "data": {
            "text/plain": [
              "34020"
            ]
          },
          "metadata": {
            "tags": []
          },
          "execution_count": 10
        }
      ]
    },
    {
      "cell_type": "code",
      "metadata": {
        "colab": {
          "base_uri": "https://localhost:8080/"
        },
        "id": "VLW-BuW8Gt8h",
        "outputId": "5de25df3-3376-44f0-be7a-e8674d572a08"
      },
      "source": [
        "#fiiting\n",
        "model.compile(optimizer='adam',loss='categorical_crossentropy',metrics=['accuracy'])\n",
        "history=model.fit(X_train,y_train,epochs=10)"
      ],
      "execution_count": 11,
      "outputs": [
        {
          "output_type": "stream",
          "text": [
            "Epoch 1/10\n",
            "1875/1875 [==============================] - 21s 11ms/step - loss: 0.7300 - accuracy: 0.7687\n",
            "Epoch 2/10\n",
            "1875/1875 [==============================] - 20s 11ms/step - loss: 0.1724 - accuracy: 0.9508\n",
            "Epoch 3/10\n",
            "1875/1875 [==============================] - 20s 11ms/step - loss: 0.1148 - accuracy: 0.9679\n",
            "Epoch 4/10\n",
            "1875/1875 [==============================] - 20s 11ms/step - loss: 0.0877 - accuracy: 0.9738\n",
            "Epoch 5/10\n",
            "1875/1875 [==============================] - 20s 11ms/step - loss: 0.0732 - accuracy: 0.9786\n",
            "Epoch 6/10\n",
            "1875/1875 [==============================] - 21s 11ms/step - loss: 0.0645 - accuracy: 0.9804\n",
            "Epoch 7/10\n",
            "1875/1875 [==============================] - 21s 11ms/step - loss: 0.0568 - accuracy: 0.9832\n",
            "Epoch 8/10\n",
            "1875/1875 [==============================] - 21s 11ms/step - loss: 0.0547 - accuracy: 0.9835\n",
            "Epoch 9/10\n",
            "1875/1875 [==============================] - 20s 11ms/step - loss: 0.0506 - accuracy: 0.9845\n",
            "Epoch 10/10\n",
            "1875/1875 [==============================] - 20s 11ms/step - loss: 0.0462 - accuracy: 0.9870\n"
          ],
          "name": "stdout"
        }
      ]
    },
    {
      "cell_type": "code",
      "metadata": {
        "colab": {
          "base_uri": "https://localhost:8080/"
        },
        "id": "ieuhZBsGoAPp",
        "outputId": "df0faf5d-8926-4fbf-d98f-ebd8b201591a"
      },
      "source": [
        "accuracy=history.history['accuracy']\n",
        "loss=history.history['loss']"
      ],
      "execution_count": 13,
      "outputs": [
        {
          "output_type": "execute_result",
          "data": {
            "text/plain": [
              "{'accuracy': [0.8768666386604309,\n",
              "  0.9549166560173035,\n",
              "  0.9687666893005371,\n",
              "  0.9739333391189575,\n",
              "  0.977233350276947,\n",
              "  0.9798333048820496,\n",
              "  0.9816333055496216,\n",
              "  0.9830333590507507,\n",
              "  0.9843000173568726,\n",
              "  0.985966682434082],\n",
              " 'loss': [0.4089541435241699,\n",
              "  0.15913575887680054,\n",
              "  0.10909765958786011,\n",
              "  0.08716731518507004,\n",
              "  0.0758814886212349,\n",
              "  0.06622316688299179,\n",
              "  0.05970729514956474,\n",
              "  0.05553773418068886,\n",
              "  0.05181519687175751,\n",
              "  0.04737866297364235]}"
            ]
          },
          "metadata": {
            "tags": []
          },
          "execution_count": 13
        }
      ]
    },
    {
      "cell_type": "code",
      "metadata": {
        "id": "lVVpRmMLHN-d"
      },
      "source": [
        "accuracy=history.history['accuracy']\n",
        "loss=history.history['loss']"
      ],
      "execution_count": 16,
      "outputs": []
    },
    {
      "cell_type": "code",
      "metadata": {
        "colab": {
          "base_uri": "https://localhost:8080/",
          "height": 421
        },
        "id": "Oxi7pCy_o4Q_",
        "outputId": "c5ad7418-4123-4f02-b9e8-827a9fdd4822"
      },
      "source": [
        "#graph of accuracy,loss over the epochs\n",
        "plt.figure(figsize=(10,6))\n",
        "plt.plot(accuracy)\n",
        "plt.plot(loss)\n",
        "plt.legend(['accuracy','loss'])\n",
        "plt.xlabel('epochs')\n",
        "plt.title('Accuracy and loss over epochs')"
      ],
      "execution_count": 23,
      "outputs": [
        {
          "output_type": "execute_result",
          "data": {
            "text/plain": [
              "Text(0.5, 1.0, 'Accuracy and loss over epochs')"
            ]
          },
          "metadata": {
            "tags": []
          },
          "execution_count": 23
        },
        {
          "output_type": "display_data",
          "data": {
            "image/png": "[encoded data removed]",
            "text/plain": [
              "<Figure size 720x432 with 1 Axes>"
            ]
          },
          "metadata": {
            "tags": [],
            "needs_background": "light"
          }
        }
      ]
    },
    {
      "cell_type": "code",
      "metadata": {
        "id": "j_22jw54JiWA",
        "colab": {
          "base_uri": "https://localhost:8080/"
        },
        "outputId": "8b57f905-202c-4a3f-fac6-a06ab7366149"
      },
      "source": [
        "model.evaluate(X_test,y_test)"
      ],
      "execution_count": 15,
      "outputs": [
        {
          "output_type": "stream",
          "text": [
            "313/313 [==============================] - 2s 6ms/step - loss: 0.0803 - accuracy: 0.9766\n"
          ],
          "name": "stdout"
        },
        {
          "output_type": "execute_result",
          "data": {
            "text/plain": [
              "[0.08033958077430725, 0.9765999913215637]"
            ]
          },
          "metadata": {
            "tags": []
          },
          "execution_count": 15
        }
      ]
    },
    {
      "cell_type": "code",
      "metadata": {
        "id": "lR-B3Hqdobt-"
      },
      "source": [
        "model.save('mnist.h5')"
      ],
      "execution_count": 24,
      "outputs": []
    },
    {
      "cell_type": "code",
      "metadata": {
        "id": "KL6bRZxbscJY"
      },
      "source": [
        "#cool....our model is getting 97.6% accuracy on test set"
      ],
      "execution_count": null,
      "outputs": []
    }
  ]
}